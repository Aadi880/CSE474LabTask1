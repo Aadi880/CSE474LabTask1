{
  "cells": [
    {
      "cell_type": "markdown",
      "metadata": {
        "id": "hztyX2bWu8JB"
      },
      "source": [
        "# Introduction to Python\n",
        "\n",
        "## Course: CSE474\n",
        "\n",
        "This assignment is to guide you to solve basic programming problems in Python. Since this is the first assignment, few problems are partially solved to help you. Go through them, try to understand and question each statment of the following questions and codes. If you can understand the problems and the solutions, solving more difficult problems would not seem so difficult. \n",
        "\n",
        "## Your tasks:\n",
        "\n",
        "- Solve these problems. \n",
        "- Upload these to your Github Repository (Naming Convention of The Repo: CSE474_YourID)\n",
        "- Send the Repository Link\n",
        "\n",
        "### Write the Python code of the following problems:"
      ]
    },
    {
      "cell_type": "markdown",
      "metadata": {
        "id": "WYFsQdfTu8JF"
      },
      "source": [
        "### Task 1\n",
        "\n",
        "Write Python code of a program that reads two numbers from the user, and prints their sum, product, and difference. Moreover, your program compare between the numbers and should then print “First is greater” if the first number is greater, “Second is greater” if the second number is greater, and “The numbers are equal” otherwise.\n",
        "\n",
        "\n",
        "*hint: Subtract the second number from the first one for difference*\n"
      ]
    },
    {
      "cell_type": "code",
      "execution_count": 3,
      "metadata": {
        "id": "R15lwqqLu8JH",
        "colab": {
          "base_uri": "https://localhost:8080/"
        },
        "outputId": "a2078563-dc9f-42ef-c1dc-a17fb805092b"
      },
      "outputs": [
        {
          "output_type": "stream",
          "name": "stdout",
          "text": [
            "Enter a number: 7\n",
            "Enter another number: 3\n",
            "First is greater\n",
            "Their sum is  10 .\n",
            "There product is  21 .\n",
            "Their difference is  4 .\n"
          ]
        }
      ],
      "source": [
        "number1 = int(input(\"Enter a number: \"))\n",
        "number2 = int(input(\"Enter another number: \"))\n",
        "sum = number1+number2\n",
        "product = number1*number2\n",
        "difference = 0\n",
        "if(number1>number2):\n",
        "  print(\"First is greater\")\n",
        "  difference = number1-number2\n",
        "elif(number1<number2):\n",
        "  print(\"Second is greater\")\n",
        "  difference = number2-number1\n",
        "else:\n",
        "  print(\"The numbers are equal\")\n",
        "\n",
        "print(\"Their sum is \",sum ,\".\\nThere product is \",product,\".\\nTheir difference is \",difference,\".\")"
      ]
    },
    {
      "cell_type": "markdown",
      "metadata": {
        "id": "3GTxNZP5u8JI"
      },
      "source": [
        "5### Task 2\n",
        "\n",
        "Write Python code of a program that reads the radius of a circle and prints its circumference and area. Moreover, it will print “The number is even” or “The number is odd”, depending on whether the input number is even or odd. \n",
        "\n",
        "*hint 1: use the modulus (%) operator for even or odd*\n",
        "\n",
        "\n",
        "*hint 2: import math and then use math.pi for getting the value of pi. \n",
        "For details read from https://docs.python.org/3/library/math.html*\n",
        "\n"
      ]
    },
    {
      "cell_type": "code",
      "execution_count": 7,
      "metadata": {
        "id": "WBF-fLyMu8JJ",
        "colab": {
          "base_uri": "https://localhost:8080/"
        },
        "outputId": "3c8840b7-2cf2-4203-86df-3dc95c87e7e9"
      },
      "outputs": [
        {
          "output_type": "stream",
          "name": "stdout",
          "text": [
            "Enter the radius of the circle: 5\n",
            "Area =  78.53981633974483 . Circumference =  31.41592653589793 . The input radius is odd\n"
          ]
        }
      ],
      "source": [
        "import math\n",
        "r = int(input(\"Enter the radius of the circle: \"))\n",
        "circumference = 2*math.pi*r\n",
        "area = math.pi*r*r\n",
        "if(r%2==0):\n",
        "  print(\"Area = \",area,\". Circumference = \", circumference,\". The input radius is even\")\n",
        "else:\n",
        "  print(\"Area = \",area,\". Circumference = \", circumference,\". The input radius is odd\")"
      ]
    },
    {
      "cell_type": "markdown",
      "metadata": {
        "id": "H0DEalOfu8JJ"
      },
      "source": [
        "### Task 3\n",
        "\n",
        "Write Python code of a program that reads a student’s mark for a single subject, and prints out the corresponding grade for that mark. The mark ranges and corresponding grades are shown in the table below.\n",
        "\n",
        "*hint: This problem can be solved in two ways: top-down (starts from A) and bottom-up (starts from F)*\n",
        "\n",
        "\n",
        "| Marks | Grage|\n",
        "| --- | --- | \n",
        "|90 or above| A |\n",
        "|  |  | \n",
        "|80-89| B |\n",
        "|  |  | \n",
        "|70-79| C |\n",
        "|  |  | \n",
        "|60-69| D |\n",
        "|  |  | \n",
        "|50-59| E |\n",
        "|  |  | \n",
        "|Below 50| F |\n",
        "\n",
        "\n",
        "\n",
        "\n",
        "\n"
      ]
    },
    {
      "cell_type": "code",
      "execution_count": 14,
      "metadata": {
        "id": "FsbplcNDu8JK",
        "colab": {
          "base_uri": "https://localhost:8080/"
        },
        "outputId": "dad88d44-380f-40de-e95f-03b05f1754ea"
      },
      "outputs": [
        {
          "output_type": "stream",
          "name": "stdout",
          "text": [
            "Enter the student's mark: 99\n",
            "A\n"
          ]
        }
      ],
      "source": [
        "mark = int(input(\"Enter the student's mark: \"))\n",
        "if(mark>89):\n",
        "  print(\"A\")\n",
        "elif(mark>79):\n",
        "  print(\"B\")\n",
        "elif(mark>69):\n",
        "  print(\"C\")\n",
        "elif(mark>59):\n",
        "  print(\"D\")\n",
        "elif(mark>49):\n",
        "  print(\"E\")\n",
        "else:\n",
        "  print(\"F\")"
      ]
    },
    {
      "cell_type": "markdown",
      "metadata": {
        "id": "4PUvksxMu8JK"
      },
      "source": [
        "### Task 4\n",
        "\n",
        "Write Python code of a program to compute and display a person’s weekly salary as determined by the following conditions:\n",
        "If the hours worked are less than or equal to 40, the person receives Tk200.00 per hour, else the person receives Tk8000.00 plus Tk300.00 for each hour worked over 40 hours.\n",
        "The program should request the hours worked as input and should display the salary as output.\n",
        "\n",
        "**example1:**\\\n",
        "Input: 100\\\n",
        "Output: 26000\n",
        "\n",
        "**example2:**\\\n",
        "Input: 30\\\n",
        "Output: 6000\n"
      ]
    },
    {
      "cell_type": "code",
      "execution_count": 16,
      "metadata": {
        "id": "Cpu7eUn5u8JM",
        "colab": {
          "base_uri": "https://localhost:8080/"
        },
        "outputId": "7ffe1081-8725-485f-cb6d-6a6b161540ec"
      },
      "outputs": [
        {
          "output_type": "stream",
          "name": "stdout",
          "text": [
            "Enter hours worked: 30\n",
            "Salary:  6000\n"
          ]
        }
      ],
      "source": [
        "hours = int(input(\"Enter hours worked: \"))\n",
        "if(hours<=40):\n",
        "  salary = hours*200\n",
        "  print(\"Salary: \",salary)\n",
        "else:\n",
        "  salary = 8000+((hours-40)*300)\n",
        "  print(\"Salary: \",salary)"
      ]
    },
    {
      "cell_type": "markdown",
      "metadata": {
        "id": "LnYsXhNNu8JM"
      },
      "source": [
        "### Task 5\n",
        "Suppose the following expressions are used to calculate the values of L for different values of S:\n",
        "\n",
        "$L =  3000-125S^2$ \n",
        "if     $S<100$\n",
        "\n",
        "$ c =  \\frac{12000}{4+S^2/14900}$\n",
        "if     $S\\geq100$\n",
        "\n",
        "Write a Python code of a program that reads a value of S and then calculates the value of L.\\\n",
        "\n",
        "For example:\\\n",
        "If S=3, L= 1875.\\\n",
        "If S=120, L= 2416.2162162162163 \n",
        "\n",
        "\n",
        "*hints: You can import math and use math function for making squares math.pow(number, power)   Or you can simply write S**2.*"
      ]
    },
    {
      "cell_type": "code",
      "execution_count": 87,
      "metadata": {
        "id": "Rn2MdaTgu8JN",
        "colab": {
          "base_uri": "https://localhost:8080/"
        },
        "outputId": "f0d3e43b-f6eb-4dd4-8ee0-dd7771a3e01d"
      },
      "outputs": [
        {
          "output_type": "stream",
          "name": "stdout",
          "text": [
            "Enter the value of S120\n",
            "2416.2162162162163\n"
          ]
        }
      ],
      "source": [
        "#CHECK THIS BEFORE SUBMITTING\n",
        "#\n",
        "s = int(input(\"Enter the value of S\"))\n",
        "l=0\n",
        "if (s >= 100):\n",
        "  l = (12000/(4+(s**2)/14900))\n",
        "else:\n",
        "  l = 3000-(125*s**2)\n",
        "print(l)"
      ]
    },
    {
      "cell_type": "markdown",
      "metadata": {
        "id": "NS0Uy9kSu8JN"
      },
      "source": [
        "### Task 6\n",
        "\n",
        "Write python program, which prints the following sequences of values in loops:\n",
        "\n",
        "a)\t24, 18, 12, 6, 0, -6\\\n",
        "b)\t-10, -5, 0, 5, 10, 15, 20\\\n",
        "c)\t18, 27, 36, 45, 54, 63\\\n",
        "d)\t18,-27, 36,-45,54,-63\n",
        "\n",
        "**Hints(1):** Use a while loop for solving these problems.\n",
        "\n",
        "**Hints(2):** We are already familiar with the print() function. But when we use it to print any value it automatically adds an additional newline after each print statement.\n",
        "\n",
        "For example:\\\n",
        "print(1)\\\n",
        "print(2)\n",
        "\n",
        "Output:\\\n",
        "1\\\n",
        "2\n",
        "\n",
        "=====================================================================\n",
        "\n",
        "To solve this problem, in Python3, we need to add an extra argument (end = \" \") in the print function which tells the program to skip printing the additional newline.\n",
        "\n",
        "For example:\\\n",
        "print(1, end =\" \")\\\n",
        "print(2)\n",
        "\n",
        "Output:(prints the next output right to the previous one)\\\n",
        "12\n",
        "\n",
        "=====================================================================\n",
        "\n",
        "In Task-6(a), the loop counter should be initialized at 24 and the loop should terminate when the loop counter reaches -6. The difference between the first two values is 24-18=6. So the loop counter value is getting decremented by 6 in every iteration.\n",
        "\n",
        "For your understanding task 6(a) code is done for you.\n"
      ]
    },
    {
      "cell_type": "code",
      "execution_count": null,
      "metadata": {
        "id": "4PyuQRJuu8JO",
        "outputId": "a47619b8-202c-4528-c9b1-4c651b320432"
      },
      "outputs": [
        {
          "name": "stdout",
          "output_type": "stream",
          "text": [
            "24, 18, 12, 6, 0, -6"
          ]
        }
      ],
      "source": [
        "# a) 24, 18, 12, 6, 0, -6\n",
        "\n",
        "# initialize loop counter\n",
        "counter = 24\n",
        "\n",
        "# loop structure\n",
        "while counter >= -6:\n",
        "    \n",
        "    #inside loop body\n",
        "    if counter == -6:\n",
        "        print(counter, end = \"\") \n",
        "    else:\n",
        "        print(counter, end = \", \") \n",
        "     \n",
        "    counter = counter - 6 #updating loop counter\n",
        "    #inside loop body\n",
        "    \n",
        "#outside loop body"
      ]
    },
    {
      "cell_type": "code",
      "execution_count": 22,
      "metadata": {
        "id": "NJ2tyeK4u8JP",
        "colab": {
          "base_uri": "https://localhost:8080/"
        },
        "outputId": "967a5ba7-b393-435d-a3f1-bcccffda5745"
      },
      "outputs": [
        {
          "output_type": "stream",
          "name": "stdout",
          "text": [
            "-10, -5, 0, 5, 10, 15, 20"
          ]
        }
      ],
      "source": [
        "# b)-10, -5, 0, 5, 10, 15, 20\n",
        "\n",
        "counter = -10\n",
        "\n",
        "# loop structure\n",
        "while counter <= 20:\n",
        "    \n",
        "    #inside loop body\n",
        "    if counter == 20:\n",
        "        print(counter, end = \"\") \n",
        "    else:\n",
        "        print(counter, end = \", \") \n",
        "     \n",
        "    counter = counter + 5 #updating loop counter\n",
        "    #inside loop body\n",
        "    \n",
        "#outside loop body"
      ]
    },
    {
      "cell_type": "code",
      "execution_count": 23,
      "metadata": {
        "id": "q7p6mSS9u8JQ",
        "colab": {
          "base_uri": "https://localhost:8080/"
        },
        "outputId": "b250405e-2787-4386-9311-57eb34313b9a"
      },
      "outputs": [
        {
          "output_type": "stream",
          "name": "stdout",
          "text": [
            "18, 27, 36, 45, 54, 63"
          ]
        }
      ],
      "source": [
        "# c)18, 27, 36, 45, 54, 63\n",
        "val=18\n",
        "while(val<=63):\n",
        "  if val==63:\n",
        "    print(val, end = \"\")\n",
        "  else:\n",
        "    print(val, end = \", \")\n",
        "  val=val+9"
      ]
    },
    {
      "cell_type": "markdown",
      "metadata": {
        "id": "9xH7rm-Bu8JQ"
      },
      "source": [
        "**Hints for 6(d):** \n",
        "\n",
        "print(5 * (-1)) gives output -5\\\n",
        "print(\"-\" + str(5)) gives output -5"
      ]
    },
    {
      "cell_type": "code",
      "execution_count": 24,
      "metadata": {
        "id": "q0AZPBI1u8JQ",
        "colab": {
          "base_uri": "https://localhost:8080/"
        },
        "outputId": "29a1836c-7479-4384-cac5-d2d93402e118"
      },
      "outputs": [
        {
          "output_type": "stream",
          "name": "stdout",
          "text": [
            "18, -27, 36, -45, 54, -63"
          ]
        }
      ],
      "source": [
        "# d)18,-27, 36,-45,54,-63\n",
        "val=18\n",
        "counter=1\n",
        "while(val<=63):\n",
        "  if counter%2==0:\n",
        "    print(\"-\",end=\"\")\n",
        "  if val==63:\n",
        "    print(val, end = \"\")\n",
        "  else:\n",
        "    print(val, end = \", \")\n",
        "  val=val+9\n",
        "  counter+=1"
      ]
    },
    {
      "cell_type": "markdown",
      "metadata": {
        "id": "kqpP9NeRu8JR"
      },
      "source": [
        "### Task 9\n",
        "Write a Python code to displays all the **odd numbers** between 10 and 50. (Using Loop)\n",
        "\n",
        "Output: 11 13 15 17 19 21 23 25 27 29 31 33 35 37 39 41 43 45 47 49\n"
      ]
    },
    {
      "cell_type": "code",
      "execution_count": 30,
      "metadata": {
        "id": "LEbc4zwGu8JR",
        "colab": {
          "base_uri": "https://localhost:8080/"
        },
        "outputId": "a0e8ce57-ccbd-4bfa-f189-d0025b9ed1a7"
      },
      "outputs": [
        {
          "output_type": "stream",
          "name": "stdout",
          "text": [
            "11 13 15 17 19 21 23 25 27 29 31 33 35 37 39 41 43 45 47 49 "
          ]
        }
      ],
      "source": [
        "for i in range(10,50):\n",
        "  if(i%2!=0):\n",
        "    print(i,end=\" \")"
      ]
    },
    {
      "cell_type": "markdown",
      "metadata": {
        "id": "2_YFOJiqu8JR"
      },
      "source": [
        "### Task 7\n",
        "Write a Python code that will calculate the **value of y if the expression** of y is as follows (n is the input):  \n",
        "\n",
        "$y = 1^2 - 2^2 +3^2 -4^2 +5^2 .........+ n^2 $\n",
        "\n",
        "**Example:** \n",
        "\n",
        "If the user enters 10, y= -55 \\\n",
        "If the user enters 20, y= -210\n"
      ]
    },
    {
      "cell_type": "code",
      "execution_count": 35,
      "metadata": {
        "id": "wLRv_oXzu8JR",
        "colab": {
          "base_uri": "https://localhost:8080/"
        },
        "outputId": "08a0b659-2137-4886-bfd4-7e3fa715a48e"
      },
      "outputs": [
        {
          "output_type": "stream",
          "name": "stdout",
          "text": [
            "Enter the value of n -> 20\n",
            "y =  -210\n"
          ]
        }
      ],
      "source": [
        "y=0\n",
        "n=int(input(\"Enter the value of n -> \"))\n",
        "for i in range(1,n+1):\n",
        "  if(i%2==0):\n",
        "    y=y-(i**2)\n",
        "    \n",
        "  else:\n",
        "    y=y+(i**2)\n",
        "    \n",
        "print(\"y = \", y)"
      ]
    },
    {
      "cell_type": "markdown",
      "metadata": {
        "id": "yeZ45PfPu8JS"
      },
      "source": [
        "### Task 8\n",
        "Write a Python program that reads 10 numbers from the user. After reading each number, print all the numbers that have been entered so far. \n",
        "\n",
        "**Example:**\\\n",
        "After the user enters 3, prints “So far in the list: [3]”\\\n",
        "After the user enters 5, prints “So far in the list: [3, 5]”\\\n",
        "After the user enters 34, prints “So far in the list: [3, 5, 34]”\n"
      ]
    },
    {
      "cell_type": "code",
      "execution_count": 36,
      "metadata": {
        "id": "aCbLOSrZu8JS",
        "colab": {
          "base_uri": "https://localhost:8080/"
        },
        "outputId": "ae173441-9e3a-454b-a69f-0014a33f81c0"
      },
      "outputs": [
        {
          "output_type": "stream",
          "name": "stdout",
          "text": [
            "3\n",
            "So far in the list:  [3]\n",
            "5\n",
            "So far in the list:  [3, 5]\n",
            "34\n",
            "So far in the list:  [3, 5, 34]\n",
            "23\n",
            "So far in the list:  [3, 5, 34, 23]\n",
            "12\n",
            "So far in the list:  [3, 5, 34, 23, 12]\n",
            "54\n",
            "So far in the list:  [3, 5, 34, 23, 12, 54]\n",
            "23\n",
            "So far in the list:  [3, 5, 34, 23, 12, 54, 23]\n",
            "77\n",
            "So far in the list:  [3, 5, 34, 23, 12, 54, 23, 77]\n",
            "53\n",
            "So far in the list:  [3, 5, 34, 23, 12, 54, 23, 77, 53]\n",
            "15\n",
            "So far in the list:  [3, 5, 34, 23, 12, 54, 23, 77, 53, 15]\n"
          ]
        }
      ],
      "source": [
        "list1=[]\n",
        "for i in range(0,10):\n",
        "  list1.append(int(input()))\n",
        "  print(\"So far in the list: \",list1)"
      ]
    },
    {
      "cell_type": "markdown",
      "metadata": {
        "id": "YYGx-_ZQu8JS"
      },
      "source": [
        "### Task 9\n",
        "Write a function called **foo_moo** that takes a number as an argument and **returns** the following statements according the below mention conditions. Then, finally prints the statement in the function call. \n",
        "\n",
        "* \tIf the number is divisible by 2, it should return \"Foo\".\n",
        "*   If the number is divisible by 3, it should return \"Moo\". \n",
        "*   If the number is divisible by both 2 and 3, it should return \"FooMoo\".\n",
        "*   Otherwise, it returns \"Boo\".\n",
        "\n",
        "**Example1:** \\\n",
        "**Function Call:**\\\n",
        "foo_moo(5)\\\n",
        "**Output:**\\\n",
        "Boo\n",
        "\n",
        "=================\n",
        "\n",
        "\n",
        "**Example2:** \\\n",
        "**Function Call:**\\\n",
        "foo_moo(4)\\\n",
        "**Output:**\\\n",
        "Foo\n",
        "\n",
        "=================\n",
        "\n",
        "\n",
        "**Example3:** \\\n",
        "**Function Call:**\\\n",
        "foo_moo(6)\\\n",
        "**Output:**\\\n",
        "FooMoo\n",
        "\n"
      ]
    },
    {
      "cell_type": "code",
      "execution_count": 41,
      "metadata": {
        "id": "VWUtBhFRu8JS",
        "colab": {
          "base_uri": "https://localhost:8080/"
        },
        "outputId": "14d2db15-c44e-4ef8-d6e6-bffd95391919"
      },
      "outputs": [
        {
          "output_type": "stream",
          "name": "stdout",
          "text": [
            "Enter a number: 15\n",
            "Moo\n"
          ]
        }
      ],
      "source": [
        "def foo_moo(num):\n",
        "  if(num%2==0):\n",
        "    if(num%3==0):\n",
        "      return (\"FooMoo\")\n",
        "    else:\n",
        "      return (\"Foo\")\n",
        "  elif(num%3==0):\n",
        "    return (\"Moo\")\n",
        "  else:\n",
        "    return (\"Boo\")\n",
        "\n",
        "x = int(input(\"Enter a number: \"))\n",
        "output = foo_moo(x)\n",
        "print(output)"
      ]
    },
    {
      "cell_type": "markdown",
      "metadata": {
        "id": "84xLaCyBu8JS"
      },
      "source": [
        "### Task 10\n",
        "Write a function called **calculate_tax** that takes 3 arguments: your age, salary, and current job designation.\n",
        "\n",
        "\n",
        "Your first task is to take these arguments as user input and pass these values to the function.\n",
        "\n",
        "Your second task is to implement the function and calculate the tax as the following conditions:\n",
        "*  **NO TAX IF YOU ARE LESS THAN 18 YEARS OLD.**\n",
        "*  **NO TAX IF YOU ARE THE PRESIDENT OF THE COMPANY** \n",
        "*  No tax if you get paid less than 10,000\n",
        "*  5% tax if you get paid between 10K and 20K\n",
        "*  10% tax if you get paid more than 20K\n",
        "\n",
        "\n",
        "Finally return this tax value. Then print the returned value in the function call.\n",
        "\n",
        "**Example1:** \\\n",
        "**Input:**\\\n",
        "16\\\n",
        "20000\\\n",
        "Student\\\n",
        "**Function Call:**\\\n",
        "calculate_tax(16, 20000, 'Student')\\\n",
        "**Output:**\\\n",
        "0\n",
        "\n",
        "===================================\n",
        "\n",
        "**Example2:** \\\n",
        "**Input:**\\\n",
        "20\\\n",
        "18000\\\n",
        "assistant manager\\\n",
        "**Function Call:**\\\n",
        "calculate_tax(20, 18000, 'assistant manager')\\\n",
        "**Output:**\\\n",
        "900.0\n",
        "\n",
        "\n",
        "===================================\n",
        "\n",
        "**Example3:** \\\n",
        "**Input:**\\\n",
        "20\\\n",
        "22000\\\n",
        "assistant manager\\\n",
        "**Function Call:**\\\n",
        "calculate_tax(20, 22000, 'Assistant manager')\\\n",
        "**Output:**\\\n",
        "2200.0\n",
        "\n",
        "===================================\n",
        "\n",
        "\n",
        "**Example4:** \\\n",
        "**Input:**\\\n",
        "20\\\n",
        "122000\\\n",
        "president\\\n",
        "**Function Call:**\\\n",
        "calculate_tax(20, 122000, 'president')\\\n",
        "**Output:**\\\n",
        "0\n",
        " \n",
        "\n",
        "**Hints:**\\\n",
        "Here the job designation is a string, so it can be written in both uppercase and lower cases. So, you need to check the value ignoring the case.\n"
      ]
    },
    {
      "cell_type": "code",
      "execution_count": 46,
      "metadata": {
        "id": "aC2cw2IZu8JT",
        "colab": {
          "base_uri": "https://localhost:8080/"
        },
        "outputId": "cb3c5278-5222-4afe-9f72-7cba27f330b8"
      },
      "outputs": [
        {
          "output_type": "stream",
          "name": "stdout",
          "text": [
            "Enter age: 20\n",
            "Enter salary: 20000\n",
            "Enter job designation:President\n",
            "0\n"
          ]
        }
      ],
      "source": [
        "def calculateTax(age,pay,job):\n",
        "\n",
        "  if(age<18 or job==\"president\" or pay<10000):\n",
        "    return 0\n",
        "  elif(pay<=20000):\n",
        "    return pay*0.05\n",
        "  else:\n",
        "    return pay*0.10\n",
        "\n",
        "age = int(input(\"Enter age: \"))\n",
        "salary = int(input(\"Enter salary: \"))\n",
        "jobdesig = input(\"Enter job designation:\")\n",
        "jobdesig = jobdesig.lower()\n",
        "print(calculateTax(age,salary,jobdesig))"
      ]
    },
    {
      "cell_type": "markdown",
      "metadata": {
        "id": "yUL-cK_Iu8JT"
      },
      "source": [
        "### Task 11\n",
        "Write a function which will take 1 argument, number of days.\n",
        "\n",
        "Your first task is to take the number of days as user input and pass the value to the function.\n",
        " \n",
        "Your second task is to implement the function and calculate the total number of years, number of months, and the remaining number of days as output. No need to return any value, print inside the function. \n",
        "\n",
        "**Note:** Assume, each year to be 365 days and month to be 30 days.\n",
        "\n",
        "**Hint:** Divide and mod the main input to get the desired output.\n",
        "\n",
        "**Input:**\\\n",
        "4330\\\n",
        "**Function Call:**\\\n",
        "function_name(4330)\\\n",
        "**Output:**\\\n",
        "11 years, 10 months and 15 days\n",
        "\n",
        "================================\n",
        "\n",
        "**Input:**\\\n",
        "2250\\\n",
        "**Function Call:**\\\n",
        "function_name(2250)\\\n",
        "**Output:**\\\n",
        "6 years, 2 months and 0 days"
      ]
    },
    {
      "cell_type": "code",
      "execution_count": 62,
      "metadata": {
        "id": "x-8z5W4Vu8JT",
        "colab": {
          "base_uri": "https://localhost:8080/"
        },
        "outputId": "391ddafd-e63c-4c60-e349-965b541c4752"
      },
      "outputs": [
        {
          "output_type": "stream",
          "name": "stdout",
          "text": [
            "Enter number of days: 2250\n",
            "6 years, 2 months, 0 days\n"
          ]
        }
      ],
      "source": [
        "def toDate(d):\n",
        "  years = int(d/(365))\n",
        "  months = int((d-years*365)/30)\n",
        "  days = int(d - years * 365 - months*30)\n",
        "  print(years,\"years,\",months,\"months,\",days,\"days\")\n",
        "\n",
        "toDate(int(input(\"Enter number of days: \")))"
      ]
    },
    {
      "cell_type": "markdown",
      "metadata": {
        "id": "FK-Qn76yu8JT"
      },
      "source": [
        "### Task 12\n",
        "Write a function called **make_square** that takes a tuple in the parameter as a range of numbers (starting point and ending point (included)). The function should **return a dictionary** with the numbers as keys and its squares as values.\n",
        "\n",
        "**Example1:** \\\n",
        "**Function Call:**\\\n",
        "make_square((1,3))\\\n",
        "**Output:**\\\n",
        "{1: 1, 2: 4, 3: 9}\n",
        "\n",
        "====================================\n",
        "\n",
        "**Example2:** \\\n",
        "**Function Call:**\\\n",
        "make_square((5,9))\\\n",
        "**Output:**\\\n",
        "{5: 25, 6: 36, 7: 49, 8: 64, 9: 81}\n",
        "\n",
        "\n",
        "\n",
        "**Hints:** \\\n",
        "You need to declare a dictionary to store the result. You should use the range function to run the “for loop”.\n"
      ]
    },
    {
      "cell_type": "code",
      "execution_count": 67,
      "metadata": {
        "id": "8-a-cxTdu8JT",
        "colab": {
          "base_uri": "https://localhost:8080/"
        },
        "outputId": "b5985d65-1cb9-4a80-dc85-8bcf53ec09da"
      },
      "outputs": [
        {
          "output_type": "stream",
          "name": "stdout",
          "text": [
            "Enter starting point-> 5\n",
            "Enter ending point-> 9\n",
            "{5: 25, 6: 36, 7: 49, 8: 64, 9: 81}\n"
          ]
        }
      ],
      "source": [
        "def make_square(myTuple):\n",
        "  startingValue, endingValue = myTuple\n",
        "  dic = {}\n",
        "  for i in range(startingValue,endingValue+1):\n",
        "    dic={**dic, **{i:i**2}}\n",
        "  return dic\n",
        "\n",
        "x = int(input(\"Enter starting point-> \"))\n",
        "y = int(input(\"Enter ending point-> \"))\n",
        "t = (x,y)\n",
        "outDictionary=make_square(t)\n",
        "print(outDictionary)\n",
        "    "
      ]
    },
    {
      "cell_type": "markdown",
      "metadata": {
        "id": "27w7wFkeu8JU"
      },
      "source": [
        "### Task 13\n",
        "Write a function called **remove_odd** that takes a list of numbers that have both even and odd numbers mixed. \\\n",
        "Your function should remove all the odd numbers and **return a compact list** which only contains the even numbers. \n",
        "\n",
        "**Example1:** \\\n",
        "**Function Call:**\\\n",
        "remove_odd ([21, 33, 44, 66, 11, 1, 88, 45, 10, 9])\\\n",
        "**Output:**\\\n",
        "[44, 66, 88, 10]\n",
        "\n",
        "====================================\n",
        "\n",
        "**Example2:** \\\n",
        "**Function Call:**\\\n",
        "remove_odd ([11,2,3,4,5,2,0,5,3])\\\n",
        "**Output:**\\\n",
        "[2, 4, 2, 0]\n",
        "\n"
      ]
    },
    {
      "cell_type": "code",
      "execution_count": 68,
      "metadata": {
        "id": "5P7lWBDnu8JU",
        "colab": {
          "base_uri": "https://localhost:8080/"
        },
        "outputId": "309fee85-07e1-4c7b-fff4-60615049232a"
      },
      "outputs": [
        {
          "output_type": "stream",
          "name": "stdout",
          "text": [
            "[2, 4, 2, 0]\n"
          ]
        }
      ],
      "source": [
        "def remove_odd(values):\n",
        "  newlist = []\n",
        "  for x in values:\n",
        "    if x%2==0:\n",
        "      newlist.append(x)\n",
        "  return newlist\n",
        "\n",
        "print(remove_odd([11,2,3,4,5,2,0,5,3]))"
      ]
    },
    {
      "cell_type": "markdown",
      "metadata": {
        "id": "2q4KOHeAu8JU"
      },
      "source": [
        "### Task 24\n",
        "Write a python function that will perform the basic calculation (addition, subtraction, multiplication and division) based on 3 arguments. They are:\n",
        "- Operator ('+', '-', '/', '*')\n",
        "- First Operand (any number)\n",
        "- Second Operand (any number)\n",
        "\n",
        "Your first task is to take these arguments as user input and pass the values to the function parameters.\n",
        "\n",
        "Your second task is to write a function and performs the calculation based on the given operator. Then, finally return the result in the function call and print the result.\n",
        "\n",
        "**Input:**\\\n",
        "\"+\"\\\n",
        "10\\\n",
        "20\\\n",
        "**Function Call:**\\\n",
        "function_name(\"+\", 10, 20)\\\n",
        "**Output:**\\\n",
        "30\n",
        "\n",
        "================================\n",
        "\n",
        "**Input:**\\\n",
        "\"*\"\\\n",
        "5.5\\\n",
        "2.5\\\n",
        "**Function Call:**\\\n",
        "function_name(\"*\", 5.5, 2.5)\\\n",
        "**Output:**\\\n",
        "13.75\n"
      ]
    },
    {
      "cell_type": "code",
      "execution_count": 72,
      "metadata": {
        "id": "A84pAJBuu8JU",
        "colab": {
          "base_uri": "https://localhost:8080/"
        },
        "outputId": "ca6feca7-a386-42a9-c411-ecee912625b0"
      },
      "outputs": [
        {
          "output_type": "stream",
          "name": "stdout",
          "text": [
            "enter an operator (+, -, / or * ): /\n",
            "Enter first number4\n",
            "Enter second number2\n",
            "2.0\n"
          ]
        }
      ],
      "source": [
        "def calculate(o,f,s):\n",
        "  if(o==\"+\"):\n",
        "    return f+s\n",
        "  elif(o==\"-\"):\n",
        "    return f-s\n",
        "  elif(o==\"*\"):\n",
        "    return f*s\n",
        "  elif(o==\"/\"):\n",
        "    return f/s\n",
        "\n",
        "op=input(\"enter an operator (+, -, / or * ): \")\n",
        "first = float(input(\"Enter first number\"))\n",
        "second = float(input(\"Enter second number\"))\n",
        "\n",
        "out=calculate(op,first,second)\n",
        "print(out)\n",
        "\n"
      ]
    },
    {
      "cell_type": "markdown",
      "metadata": {
        "id": "wnp7voLou8JU"
      },
      "source": [
        "### Task 15\n",
        "You have been hired as an app developer for the company karon_tumi_bekar. The company plans to make an app for a grocery store where the user can order groceries and see the total amount to be paid in the cart section. \n",
        "\n",
        "To build this feature, you have to write a function that takes 2 arguments. They are:\n",
        "- order_items (must be a list)\n",
        "- location (default value should be set to \"Dhanmondi\")\n",
        "\n",
        "Your first task is to take a list of items from the user. Pass the list into the function parameter along with the optional location (Use default argument technique). (Also, no need to take location as input, pass this any value you want.) \n",
        "\n",
        "Your second task is to implement the function. In the function, create a dictionary for the items shown in the table. Calculate the total price of the items passed as a list to the function. Additionally, add a delivery fee of 30 taka if the location is Dhanmondi. Otherwise, add a delivery fee of 70 taka. Finally, return the value and print it.\n",
        "\n",
        "| Item | Price(Tk) |\n",
        "| --- | --- |\n",
        "| Rice | 105 |\n",
        "| Potato | 20 |\n",
        "| Chicken | 250 |\n",
        "| Beef | 510 |\n",
        "| Oil | 85 |\n",
        "\n",
        "**Hint:** The keys are the items and values are the corresponding price. Iterate the items in the list and check if the items in the list are available in the dictionary keys or not. If it is available, add the price.\n",
        "\n",
        "**Example:**\\\n",
        "function_name([\"Rice\", \"Beef\", \"Rice\"], \"Mohakhali\")\n",
        "\n",
        "total = 105 + 510 + 105 = 720 (Take the price of each item and add them.)\\\n",
        "total = 720 + 70 = 790 (Finally, add the delivery fee based on the location.)\n",
        "\n",
        "**Input:**\\\n",
        "[\"Rice\", \"Beef\", \"Rice\"]\\\n",
        "**Function Call:**\\\n",
        "function_name([\"Rice\", \"Beef\", \"Rice\"], \"Mohakhali\")\\\n",
        "**Output:**\\\n",
        "790\n",
        "\n",
        "==============================================\n",
        "\n",
        "**Input:**\\\n",
        "[\"Rice\", \"Beef\", \"Rice\"]\\\n",
        "**Function Call:**\\\n",
        "function_name([\"Rice\", \"Beef\", \"Rice\"])\\\n",
        "**Output:**\\\n",
        "750"
      ]
    },
    {
      "cell_type": "code",
      "execution_count": 84,
      "metadata": {
        "id": "QDzByWZ0u8JV",
        "colab": {
          "base_uri": "https://localhost:8080/"
        },
        "outputId": "dcf44576-22da-40ee-cca7-2af03276307d"
      },
      "outputs": [
        {
          "output_type": "stream",
          "name": "stdout",
          "text": [
            "Rice, Beef, Rice in Dhanmondi:\n",
            "750\n",
            "\n",
            "Rice, Beef, Rice in Mohakhali:\n",
            "790\n"
          ]
        }
      ],
      "source": [
        "def karonTumiBekar(order_items,location=\"Dhanmondi\"):\n",
        "  shoppinglist = {\"Rice\":105,\"Potato\":20,\"Chicken\":250,\"Beef\":510,\"Oil\":85}\n",
        "  deliveryfeeDhanmondi=30\n",
        "  deliveryfeeAny=70\n",
        "  total = 0\n",
        "  for x in order_items:\n",
        "    if(x in shoppinglist):\n",
        "      total = total + shoppinglist[x]\n",
        "      #print(shoppinglist[x])\n",
        "    #print(shoppinglist[order_items])\n",
        "  if (location == \"Dhanmondi\"):\n",
        "    total = total+deliveryfeeDhanmondi\n",
        "  else:\n",
        "    total = total+deliveryfeeAny\n",
        "  \n",
        "  return total\n",
        "\n",
        "print(\"Rice, Beef, Rice in Dhanmondi:\")\n",
        "print(karonTumiBekar([\"Rice\", \"Beef\", \"Rice\"]))\n",
        "print()\n",
        "\n",
        "print(\"Rice, Beef, Rice in Mohakhali:\")\n",
        "print(karonTumiBekar([\"Rice\", \"Beef\", \"Rice\"], \"Mohakhali\"))\n",
        "\n"
      ]
    },
    {
      "cell_type": "code",
      "source": [
        ""
      ],
      "metadata": {
        "id": "BRKlh8mrcafe"
      },
      "execution_count": null,
      "outputs": []
    }
  ],
  "metadata": {
    "interpreter": {
      "hash": "e896f58382219557ed1cd87260c67d9e69d66db56889d9cde40c814aa57c370f"
    },
    "kernelspec": {
      "display_name": "Python 3.6.13 ('tf_gpu')",
      "language": "python",
      "name": "python3"
    },
    "language_info": {
      "codemirror_mode": {
        "name": "ipython",
        "version": 3
      },
      "file_extension": ".py",
      "mimetype": "text/x-python",
      "name": "python",
      "nbconvert_exporter": "python",
      "pygments_lexer": "ipython3",
      "version": "3.6.13"
    },
    "orig_nbformat": 4,
    "colab": {
      "name": "[CSE474]_Lab_Task_1_Problems.ipynb",
      "provenance": [],
      "collapsed_sections": []
    }
  },
  "nbformat": 4,
  "nbformat_minor": 0
}